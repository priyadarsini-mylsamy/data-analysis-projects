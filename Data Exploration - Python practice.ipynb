{
 "cells": [
  {
   "cell_type": "code",
   "execution_count": null,
   "metadata": {},
   "outputs": [],
   "source": []
  },
  {
   "cell_type": "raw",
   "metadata": {},
   "source": [
    "import csv as c\n"
   ]
  },
  {
   "cell_type": "code",
   "execution_count": 55,
   "metadata": {},
   "outputs": [],
   "source": [
    "enrollment_filename = \"/home/pri/Downloads/IntroToDataAnalysis/enrollments.csv\"\n",
    "daily_engagement_filename = \"/home/pri/Downloads/IntroToDataAnalysis/daily_engagement.csv\"\n",
    "project_submissions_filename = \"/home/pri/Downloads/IntroToDataAnalysis/project_submissions.csv\""
   ]
  },
  {
   "cell_type": "code",
   "execution_count": 56,
   "metadata": {},
   "outputs": [],
   "source": [
    "def returnFileset(filename):\n",
    "    f = open(filename)\n",
    "    content = c.reader(f)\n",
    "    return content\n",
    "    f.close()"
   ]
  },
  {
   "cell_type": "code",
   "execution_count": 83,
   "metadata": {},
   "outputs": [
    {
     "name": "stdout",
     "output_type": "stream",
     "text": [
      "No of rows in the Daily Engagement File 136240\n",
      "Unique account numbers 1237\n"
     ]
    }
   ],
   "source": [
    "setvalue_daily_engagement_filename = list(returnFileset(daily_engagement_filename))\n",
    "print(\"No of rows in the Daily Engagement File\",len(setvalue_daily_engagement_filename)-1)\n",
    "element = setvalue_daily_engagement_filename[1]\n",
    "uniquecount=-1\n",
    "for row in setvalue_daily_engagement_filename:\n",
    "    if row[0] != element[0]:\n",
    "        #print(\"row\",row[0])\n",
    "        #print(\"element\",element[0])\n",
    "        element[0] = row[0] \n",
    "        uniquecount=uniquecount+1\n",
    "        #print(uniquecount)\n",
    "print(\"Unique account numbers\",uniquecount)       \n",
    "        "
   ]
  },
  {
   "cell_type": "code",
   "execution_count": 84,
   "metadata": {},
   "outputs": [
    {
     "name": "stdout",
     "output_type": "stream",
     "text": [
      "No of rows in the enrollment File 1640\n",
      "Unique account numbers 1302\n"
     ]
    }
   ],
   "source": [
    "setvalue_enrollment_filename = list(returnFileset(enrollment_filename))\n",
    "print(\"No of rows in the enrollment File\",len(setvalue_enrollment_filename)-1)\n",
    "elemente = setvalue_enrollment_filename[1]\n",
    "uniquecount_e=-1\n",
    "for row in setvalue_enrollment_filename:\n",
    "    if row[0] != elemente[0]:\n",
    "        #print(\"row\",row[0])\n",
    "        #print(\"element\",elemente[0])\n",
    "        elemente[0] = row[0] \n",
    "        uniquecount_e=uniquecount_e+1\n",
    "        #print(uniquecount_e)\n",
    "print(\"Unique account numbers\",uniquecount_e)  "
   ]
  },
  {
   "cell_type": "code",
   "execution_count": 86,
   "metadata": {},
   "outputs": [
    {
     "name": "stdout",
     "output_type": "stream",
     "text": [
      "No of rows in the project submissions File 3642\n",
      "Unique account numbers 743\n"
     ]
    }
   ],
   "source": [
    "setvalue_project_submissions_filename = list(returnFileset(project_submissions_filename))\n",
    "print(\"No of rows in the project submissions File\",len(setvalue_project_submissions_filename)-1)\n",
    "elements = setvalue_project_submissions_filename[1]\n",
    "uniquecount_s=-1\n",
    "for row in setvalue_project_submissions_filename:\n",
    "    if row[3] != elements[3]:\n",
    "       # print(\"row\",row[3])\n",
    "       # print(\"element\",elements[3])\n",
    "        elements[3] = row[3] \n",
    "        uniquecount_s=uniquecount_s+1\n",
    "       # print(uniquecount_s)\n",
    "print(\"Unique account numbers\",uniquecount_s)  "
   ]
  },
  {
   "cell_type": "code",
   "execution_count": null,
   "metadata": {},
   "outputs": [],
   "source": []
  }
 ],
 "metadata": {
  "kernelspec": {
   "display_name": "Python 3",
   "language": "python",
   "name": "python3"
  },
  "language_info": {
   "codemirror_mode": {
    "name": "ipython",
    "version": 3
   },
   "file_extension": ".py",
   "mimetype": "text/x-python",
   "name": "python",
   "nbconvert_exporter": "python",
   "pygments_lexer": "ipython3",
   "version": "3.5.4"
  }
 },
 "nbformat": 4,
 "nbformat_minor": 2
}
